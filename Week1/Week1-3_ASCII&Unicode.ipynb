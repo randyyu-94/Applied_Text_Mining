{
 "cells": [
  {
   "attachments": {},
   "cell_type": "markdown",
   "metadata": {},
   "source": [
    "## Section III Internationalization: Issues with Non-ASCII Characters"
   ]
  },
  {
   "attachments": {},
   "cell_type": "markdown",
   "metadata": {},
   "source": [
    "#### **1. ASCII (Pronounced like *Askee*)**  \n",
    "- ASCII stands for American Standard Code for Information Interchange  \n",
    "$\\qquad$ - 7-bit character encoding standard: enables 128 valid codes  \n",
    "$\\qquad$ - Range: 0x00 - 0x7F [(0000 0000)$_2$ to (0111 1111)$_2$]  \n",
    "$\\qquad$ - Includes: alphabets (upper/lower), digits, punctuations, common symbols, control characters  \n",
    "$\\qquad$ - works *relatively* well for English typewriting (not everything, e.g., résumé, naïve)  \n",
    "\n",
    "- What ASCII cannot process:  \n",
    "$\\qquad$ - diacritics: résumé, naïve, Québec, Zürich  \n",
    "$\\qquad$ - International languages  \n",
    "$\\qquad$ - music symbols  \n",
    "$\\qquad$ - emoji\n",
    "\n",
    "- Different written scripts for different countries/regions"
   ]
  },
  {
   "attachments": {},
   "cell_type": "markdown",
   "metadata": {},
   "source": [
    "#### **2. Other character encodings**\n",
    "\n",
    "- IBM EBCDIC (8-bit encoding)  \n",
    "- Latin-1 (slightly different from ASCII)  \n",
    "- JIS (*Japanese Industrial Standards*)  \n",
    "- CCCII (*Chinese Character Code for Information Interchange*)  \n",
    "- EUC (*Extended Unix Code*)  \n",
    "- **Most inclusive**: Unicode - Standardize the encoding and bring all together"
   ]
  },
  {
   "attachments": {},
   "cell_type": "markdown",
   "metadata": {},
   "source": [
    "#### **3. Unicode**\n",
    "\n",
    "- Industrial standard for encoding and representing text\n",
    "- Over 128,000 characters from 130+ scripts and symbol sets\n",
    "- Can be implemented by different character endings\n",
    "    - UTF-8: One byte to up to four bytes (i.e., 8-32 bits)  \n",
    "    - UTF-16: One or two 16-bit code units  \n",
    "    - UTF-32: One 32-bit code unit\n",
    "\n",
    "    ##### ***UTF-8***\n",
    "    - Stands fore Unicode Transformational Format - 8-bits  \n",
    "    - Variable length encoding: 1-4 bytes\n",
    "    - Backward compatible with ASCII\n",
    "        - One byte codes: = ASCII  \n",
    "    - Dominant character encoding for the Web\n",
    "    - In Python:\n",
    "        - in Python 3: Default\n",
    "        - In Python 2: #-\\*- coding: utf-8 -\\*-\n"
   ]
  },
  {
   "cell_type": "code",
   "execution_count": 8,
   "metadata": {},
   "outputs": [
    {
     "name": "stdout",
     "output_type": "stream",
     "text": [
      "résumé 6\n",
      "r\n",
      "é\n",
      "s\n",
      "u\n",
      "m\n",
      "é\n"
     ]
    }
   ],
   "source": [
    "text1 = 'résumé'\n",
    "print(text1,len(text1)) #handled really well in Python 3.9.15!\n",
    "for l in text1:\n",
    "    print(l)"
   ]
  },
  {
   "attachments": {},
   "cell_type": "markdown",
   "metadata": {},
   "source": [
    "#### ***\\* Take Home Concepts***\n",
    "\n",
    "$\\qquad$ - Diversity in text  \n",
    "$\\qquad$ - ASCII and other character encodings  \n",
    "$\\qquad$ - Handling text in UTF-8  "
   ]
  }
 ],
 "metadata": {
  "kernelspec": {
   "display_name": "base",
   "language": "python",
   "name": "python3"
  },
  "language_info": {
   "codemirror_mode": {
    "name": "ipython",
    "version": 3
   },
   "file_extension": ".py",
   "mimetype": "text/x-python",
   "name": "python",
   "nbconvert_exporter": "python",
   "pygments_lexer": "ipython3",
   "version": "3.9.15"
  },
  "orig_nbformat": 4
 },
 "nbformat": 4,
 "nbformat_minor": 2
}
