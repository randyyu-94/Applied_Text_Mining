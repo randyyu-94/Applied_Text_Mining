{
 "cells": [
  {
   "attachments": {},
   "cell_type": "markdown",
   "metadata": {},
   "source": [
    "# **Module 1: Working with Text in Python**"
   ]
  },
  {
   "attachments": {},
   "cell_type": "markdown",
   "metadata": {},
   "source": [
    "## Section I Handling Text in Python"
   ]
  },
  {
   "cell_type": "markdown",
   "metadata": {},
   "source": [
    "#### **1. Primitive Constructs in Text**\n",
    "\n",
    "$\\qquad$(1) Sentences/Input strings  \n",
    "$\\qquad$(2) Words or tokens  \n",
    "$\\qquad$(3) Characters  \n",
    "$\\qquad$(4) Documents and large files  \n",
    "\n",
    "...And their properties"
   ]
  },
  {
   "cell_type": "markdown",
   "metadata": {},
   "source": [
    "#### **2. Basic Operations of a Text**  \n",
    "\n",
    "$\\qquad$(1) Length of the text:  \n",
    "$\\qquad\\qquad$ a. Character: *len(text)*"
   ]
  },
  {
   "cell_type": "code",
   "execution_count": 2,
   "metadata": {},
   "outputs": [
    {
     "data": {
      "text/plain": [
       "76"
      ]
     },
     "execution_count": 2,
     "metadata": {},
     "output_type": "execute_result"
    }
   ],
   "source": [
    "#Python practice cell\n",
    "\n",
    "text1 = 'Ethics are built right into the ideals and objectives of the United Nations '\n",
    "len(text1)"
   ]
  },
  {
   "cell_type": "markdown",
   "metadata": {},
   "source": [
    "$\\qquad\\qquad$ b. Words: *split* + *len(text)*\n"
   ]
  },
  {
   "cell_type": "code",
   "execution_count": 4,
   "metadata": {},
   "outputs": [
    {
     "name": "stdout",
     "output_type": "stream",
     "text": [
      "['Ethics', 'are', 'built', 'right', 'into', 'the', 'ideals', 'and', 'objectives', 'of', 'the', 'United', 'Nations', '']\n"
     ]
    },
    {
     "data": {
      "text/plain": [
       "14"
      ]
     },
     "execution_count": 4,
     "metadata": {},
     "output_type": "execute_result"
    }
   ],
   "source": [
    "text2 = text1.split(' ')\n",
    "print(text2)\n",
    "len(text2)"
   ]
  },
  {
   "cell_type": "markdown",
   "metadata": {},
   "source": [
    "$\\qquad$ (2) Finding specific words:  \n",
    "$\\qquad\\qquad$ a. Long word (e.g. more than 3 letters): use *if*"
   ]
  },
  {
   "cell_type": "code",
   "execution_count": 9,
   "metadata": {},
   "outputs": [
    {
     "name": "stdout",
     "output_type": "stream",
     "text": [
      "['Ethics', 'built', 'right', 'into', 'ideals', 'objectives', 'United', 'Nations']\n"
     ]
    },
    {
     "data": {
      "text/plain": [
       "8"
      ]
     },
     "execution_count": 9,
     "metadata": {},
     "output_type": "execute_result"
    }
   ],
   "source": [
    "text3 = [w for w in text2 if len(w) > 3] \n",
    "#'len' can call both a list (return number of elements in the list) or an element (if a word, return the number of characters in the word)\n",
    "print(text3)\n",
    "len(text3)"
   ]
  },
  {
   "cell_type": "markdown",
   "metadata": {},
   "source": [
    "$\\qquad\\qquad$ b. Capitalized words (words begin with capital letters): use *istitle*"
   ]
  },
  {
   "cell_type": "code",
   "execution_count": 6,
   "metadata": {},
   "outputs": [
    {
     "name": "stdout",
     "output_type": "stream",
     "text": [
      "['Ethics', 'United', 'Nations']\n"
     ]
    },
    {
     "data": {
      "text/plain": [
       "3"
      ]
     },
     "execution_count": 6,
     "metadata": {},
     "output_type": "execute_result"
    }
   ],
   "source": [
    "text4 = [w for w in text2 if w.istitle()]\n",
    "print(text4)\n",
    "len(text4)"
   ]
  },
  {
   "cell_type": "markdown",
   "metadata": {},
   "source": [
    "$\\qquad\\qquad$ c. words that ends with 's': use *endswith*"
   ]
  },
  {
   "cell_type": "code",
   "execution_count": 8,
   "metadata": {},
   "outputs": [
    {
     "name": "stdout",
     "output_type": "stream",
     "text": [
      "['Ethics', 'ideals', 'objectives', 'Nations']\n"
     ]
    },
    {
     "data": {
      "text/plain": [
       "4"
      ]
     },
     "execution_count": 8,
     "metadata": {},
     "output_type": "execute_result"
    }
   ],
   "source": [
    "text5 = [w for w in text2 if w.endswith('s')]\n",
    "print(text5)\n",
    "len(text5)"
   ]
  },
  {
   "cell_type": "markdown",
   "metadata": {},
   "source": [
    "$\\qquad\\qquad$ d. Finding unique words (**words that are repeated count only once**): use *set*"
   ]
  },
  {
   "cell_type": "code",
   "execution_count": 10,
   "metadata": {},
   "outputs": [
    {
     "data": {
      "text/plain": [
       "6"
      ]
     },
     "execution_count": 10,
     "metadata": {},
     "output_type": "execute_result"
    }
   ],
   "source": [
    "text6 = 'To be or not to be'\n",
    "text7 = text6.split(' ')\n",
    "\n",
    "len(text7)"
   ]
  },
  {
   "cell_type": "code",
   "execution_count": 13,
   "metadata": {},
   "outputs": [
    {
     "name": "stdout",
     "output_type": "stream",
     "text": [
      "{'to', 'not', 'or', 'be', 'To'}\n"
     ]
    },
    {
     "data": {
      "text/plain": [
       "5"
      ]
     },
     "execution_count": 13,
     "metadata": {},
     "output_type": "execute_result"
    }
   ],
   "source": [
    "print(set(text7))\n",
    "len(set(text7))\n",
    "# returned 5 because 'to' and 'To' are treated as different words"
   ]
  },
  {
   "cell_type": "code",
   "execution_count": 15,
   "metadata": {},
   "outputs": [
    {
     "name": "stdout",
     "output_type": "stream",
     "text": [
      "{'to', 'or', 'be', 'not'}\n"
     ]
    },
    {
     "data": {
      "text/plain": [
       "4"
      ]
     },
     "execution_count": 15,
     "metadata": {},
     "output_type": "execute_result"
    }
   ],
   "source": [
    "# solving the issue: use 'lower'\n",
    "\n",
    "text8 = set([w.lower() for w in text7])\n",
    "print(text8)\n",
    "len(text8)"
   ]
  },
  {
   "cell_type": "markdown",
   "metadata": {},
   "source": [
    "$\\qquad\\qquad$ e. Other functions\n",
    "\n",
    "$\\qquad\\qquad\\qquad$ - *startswith*  \n",
    "$\\qquad\\qquad\\qquad$ - *t in s*  \n",
    "$\\qquad\\qquad\\qquad$ - *isupper*, *islower*, *istitle*  \n",
    "$\\qquad\\qquad\\qquad$ - *isalpha*, *isdigit*, *isalnum*"
   ]
  },
  {
   "cell_type": "code",
   "execution_count": 22,
   "metadata": {},
   "outputs": [
    {
     "name": "stdout",
     "output_type": "stream",
     "text": [
      "['There', 'are', '9000', 'people', 'living', 'within', 'a', '100', 'km2', 'land', 'in', 'this', 'town', 'of', 'Canada.', 'SO', 'SPARSE!']\n"
     ]
    },
    {
     "data": {
      "text/plain": [
       "17"
      ]
     },
     "execution_count": 22,
     "metadata": {},
     "output_type": "execute_result"
    }
   ],
   "source": [
    "text9 = 'There are 9000 people living within a 100 km2 land in this town of Canada. SO SPARSE!'\n",
    "text10 = text9.split(' ')\n",
    "print(text10)\n",
    "len(text10)"
   ]
  },
  {
   "cell_type": "code",
   "execution_count": 23,
   "metadata": {},
   "outputs": [
    {
     "name": "stdout",
     "output_type": "stream",
     "text": [
      "['There', 'Canada.'] 2\n",
      "['SO', 'SPARSE!'] 2\n",
      "['9000', '100'] 2\n",
      "['There', 'are', 'people'] 3\n",
      "['There', 'are', 'people', 'living', 'within', 'a', 'land', 'in', 'this', 'town', 'of', 'SO'] 12\n",
      "['There', 'are', '9000', 'people', 'living', 'within', 'a', '100', 'km2', 'land', 'in', 'this', 'town', 'of', 'SO'] 15\n"
     ]
    }
   ],
   "source": [
    "text11 = [w for w in text10 if w.istitle()]\n",
    "print(text11, len(text11))\n",
    "\n",
    "text12 = [w for w in text10 if w.isupper()]\n",
    "print(text12, len(text12))\n",
    "\n",
    "text13 = [w for w in text10 if w.isdigit()]\n",
    "print(text13, len(text13))\n",
    "\n",
    "text14 = [w for w in text10 if 'e' in w]\n",
    "print(text14, len(text14))\n",
    "\n",
    "text15 = [w for w in text10 if w.isalpha()]\n",
    "print(text15, len(text15))\n",
    "\n",
    "text16 = [w for w in text10 if w.isalnum()]\n",
    "print(text16, len(text16))"
   ]
  },
  {
   "cell_type": "markdown",
   "metadata": {},
   "source": [
    "$\\qquad$ (3) String Operations:  \n",
    "$\\qquad\\qquad$ a. Change the capitalization of words: *lower*, *upper*, *titlecase*\n"
   ]
  },
  {
   "cell_type": "code",
   "execution_count": 25,
   "metadata": {},
   "outputs": [
    {
     "name": "stdout",
     "output_type": "stream",
     "text": [
      "Original sentence:  The quick brown fox Jumps Over the lazy dog.\n",
      "All lower case:  the quick brown fox jumps over the lazy dog.\n",
      "All upper case:  THE QUICK BROWN FOX JUMPS OVER THE LAZY DOG.\n",
      "Title format:  The Quick Brown Fox Jumps Over The Lazy Dog.\n"
     ]
    }
   ],
   "source": [
    "text17 = 'The quick brown fox Jumps Over the lazy dog.'\n",
    "print('Original sentence: ', text17)\n",
    "\n",
    "text18 = text17.lower()\n",
    "print('All lower case: ', text18)\n",
    "\n",
    "text19 = text17.upper()\n",
    "print('All upper case: ', text19)\n",
    "\n",
    "text20 = text17.title()\n",
    "print('Title format: ', text20)"
   ]
  },
  {
   "cell_type": "markdown",
   "metadata": {},
   "source": [
    "$\\qquad\\qquad$ b. Split a sentence by *t*"
   ]
  },
  {
   "cell_type": "code",
   "execution_count": 26,
   "metadata": {},
   "outputs": [
    {
     "name": "stdout",
     "output_type": "stream",
     "text": [
      "Split the sentence with letter 'o':  ['The quick br', 'wn f', 'x Jumps Over the lazy d', 'g.']\n"
     ]
    }
   ],
   "source": [
    "text21 = text17.split('o')\n",
    "print(\"Split the sentence with letter 'o': \", text21)"
   ]
  },
  {
   "cell_type": "markdown",
   "metadata": {},
   "source": [
    "$\\qquad\\qquad$ c. Split a sentence by lines"
   ]
  },
  {
   "cell_type": "code",
   "execution_count": 28,
   "metadata": {},
   "outputs": [
    {
     "name": "stdout",
     "output_type": "stream",
     "text": [
      "Original sentence is:  I love you.\n",
      "You love me.\n",
      "We are sweethearts. 44\n",
      "Split the sentence into lines ['I love you.', 'You love me.', 'We are sweethearts.'] 3\n"
     ]
    }
   ],
   "source": [
    "text22 = 'I love you.\\nYou love me.\\nWe are sweethearts.'\n",
    "print('Original sentence is: ', text22, len(text22))\n",
    "\n",
    "text23 = text22.splitlines()\n",
    "print(\"Split the sentence into lines\", text23,len(text23))"
   ]
  },
  {
   "cell_type": "markdown",
   "metadata": {},
   "source": [
    "$\\qquad\\qquad$ d. Join words by *t* **(applied on a list)**"
   ]
  },
  {
   "cell_type": "code",
   "execution_count": 33,
   "metadata": {},
   "outputs": [
    {
     "name": "stdout",
     "output_type": "stream",
     "text": [
      "Rejoined sentence:  The quick broown foox Jumps Over the lazy doog. 47\n"
     ]
    }
   ],
   "source": [
    "text24 = 'oo'.join(text21)\n",
    "print('Rejoined sentence: ', text24, len(text24))"
   ]
  },
  {
   "cell_type": "markdown",
   "metadata": {},
   "source": [
    "$\\qquad\\qquad$ e. Cleaning operations: remove all whitespace characters using *strip* (remove whitespace from the front and back) or *rstrip* (remove whitespace only from the back)"
   ]
  },
  {
   "cell_type": "code",
   "execution_count": 57,
   "metadata": {},
   "outputs": [
    {
     "name": "stdout",
     "output_type": "stream",
     "text": [
      "        If you won't leave me, I will be with you till the end of the time.        82\n",
      "['', '', '', '', '', '', '', '', 'If', 'you', \"won't\", 'leave', 'me,', 'I', 'will', 'be', 'with', 'you', 'till', 'the', 'end', 'of', 'the', 'time.', '', '', '', '', '', '', ''] 31\n",
      "If you won't leave me, I will be with you till the end of the time. 67\n",
      "['If', 'you', \"won't\", 'leave', 'me,', 'I', 'will', 'be', 'with', 'you', 'till', 'the', 'end', 'of', 'the', 'time.'] 16\n",
      "        If you won't leave me, I will be with you till the end of the time. 75\n",
      "['', '', '', '', '', '', '', '', 'If', 'you', \"won't\", 'leave', 'me,', 'I', 'will', 'be', 'with', 'you', 'till', 'the', 'end', 'of', 'the', 'time.'] 24\n",
      "If you won't leave me, I will be with you till the end of the time. 67\n",
      "['If', 'you', \"won't\", 'leave', 'me,', 'I', 'will', 'be', 'with', 'you', 'till', 'the', 'end', 'of', 'the', 'time.'] 16\n"
     ]
    }
   ],
   "source": [
    "text25 = \"        If you won't leave me, I will be with you till the end of the time.       \"\n",
    "print(text25, len(text25))\n",
    "\n",
    "text25_1 = text25.split(' ')\n",
    "print(text25_1, len(text25_1))\n",
    "\n",
    "text26 = text25.strip()\n",
    "print(text26, len(text26))\n",
    "\n",
    "text26_1 = text26.split(' ')\n",
    "print(text26_1, len(text26_1))\n",
    "\n",
    "\n",
    "text27 = text25.rstrip()\n",
    "print(text27, len(text27))\n",
    "\n",
    "text27_1 = text27.split(' ')\n",
    "print(text27_1, len(text27_1))\n",
    "\n",
    "text28 = text25.strip().rstrip()\n",
    "print(text28, len(text28))\n",
    "\n",
    "text28_1 = text28.split(' ')\n",
    "print(text28_1, len(text28_1))\n"
   ]
  },
  {
   "cell_type": "markdown",
   "metadata": {},
   "source": [
    "$\\qquad\\qquad$ f. Find the location of *t*: use *find* (from the front) or *rfind* (from the back)"
   ]
  },
  {
   "cell_type": "code",
   "execution_count": 48,
   "metadata": {},
   "outputs": [
    {
     "name": "stdout",
     "output_type": "stream",
     "text": [
      "3\n",
      "38\n"
     ]
    }
   ],
   "source": [
    "pos1 = text28.find('you')\n",
    "print(pos1)\n",
    "\n",
    "pos2 = text28.rfind('you')\n",
    "print(pos2)"
   ]
  },
  {
   "cell_type": "markdown",
   "metadata": {},
   "source": [
    "$\\qquad\\qquad$ g. Replace *u* by *v*: *replace*"
   ]
  },
  {
   "cell_type": "code",
   "execution_count": 49,
   "metadata": {},
   "outputs": [
    {
     "name": "stdout",
     "output_type": "stream",
     "text": [
      "the quick brown fox jumps over the lazy dog. \n",
      " the quick broown foox jumps oover the lazy doog.\n"
     ]
    }
   ],
   "source": [
    "text29 = text18.replace('o','oo')\n",
    "print(text18, '\\n', text29)"
   ]
  },
  {
   "cell_type": "markdown",
   "metadata": {},
   "source": [
    "$\\qquad\\qquad$ h. Transfer a word to all characters"
   ]
  },
  {
   "cell_type": "code",
   "execution_count": 55,
   "metadata": {},
   "outputs": [
    {
     "name": "stdout",
     "output_type": "stream",
     "text": [
      "ouagadougou \n",
      " ['o', 'u', 'a', 'g', 'a', 'd', 'o', 'u', 'g', 'o', 'u'] \n",
      " ['o', 'u', 'a', 'g', 'a', 'd', 'o', 'u', 'g', 'o', 'u'] \n",
      " ['o', 'u', 'a', 'g', 'd'] \n",
      " ['d', 'o', 'g', 'u', 'a']\n"
     ]
    }
   ],
   "source": [
    "text30 = 'ouagadougou'\n",
    "text31 = list(text30)\n",
    "text32 = [c for c in text30]\n",
    "\n",
    "text33 = []\n",
    "for c in text30:\n",
    "    if c not in text33:\n",
    "        text33.append(c)\n",
    "    else:\n",
    "        pass\n",
    "\n",
    "text34 = list(set(list(text30)))\n",
    "\n",
    "print(text30, '\\n', text31, '\\n', text32, '\\n', text33, '\\n', text34)"
   ]
  },
  {
   "attachments": {},
   "cell_type": "markdown",
   "metadata": {},
   "source": [
    "#### **3. Handling Larger Texts**\n",
    "\n",
    "$\\qquad$(1) Read files\n",
    "\n",
    "$\\qquad\\qquad$ a. Open the full file in read mode: *'r'*  \n",
    "$\\qquad\\qquad$ b. Read the line following the position: *readline*"
   ]
  },
  {
   "cell_type": "code",
   "execution_count": 96,
   "metadata": {},
   "outputs": [
    {
     "data": {
      "text/plain": [
       "'Universal Declaration of Human Rights\\n'"
      ]
     },
     "execution_count": 96,
     "metadata": {},
     "output_type": "execute_result"
    }
   ],
   "source": [
    "f = open('UNDHR.txt','r') # r stands for read mode\n",
    "f.readline()"
   ]
  },
  {
   "attachments": {},
   "cell_type": "markdown",
   "metadata": {},
   "source": [
    "$\\qquad\\qquad$ c. Read the whole passage: *read*"
   ]
  },
  {
   "cell_type": "code",
   "execution_count": 97,
   "metadata": {},
   "outputs": [
    {
     "data": {
      "text/plain": [
       "'Preamble\\nWhereas recognition of the inherent dignity and of the equal and inalienable\\nrights of all members of the human family is the foundation of freedom, justice\\nand peace in the world,\\nWhereas disregard and contempt for human rights have resulted in barbarous\\nacts which have outraged the conscience of mankind, and the advent of a world\\nin which human beings shall enjoy freedom of speech and belief and freedom\\nfrom fear and want has been proclaimed as the highest aspiration of the common\\npeople,\\nWhereas it is essential, if man is not to be compelled to have recourse, as a last\\nresort, to rebellion against tyranny and oppression, that human rights should be\\nprotected by the rule of law,\\nWhereas it is essential to promote the development of friendly relations between\\nnations,\\nWhereas the peoples of the United Nations have in the Charter reaffirmed their\\nfaith in fundamental human rights, in the dignity and worth of the human person\\nand in the equal rights of men and women and have determined to promote\\nsocial progress and better standards of life in larger freedom,\\nWhereas Member States have pledged themselves to achieve, in cooperation\\nwith the United Nations, the promotion of universal respect for and observance of\\nhuman rights and fundamental freedoms,\\nWhereas a common understanding of these rights and freedoms is of the\\ngreatest importance for the full realization of this pledge,\\nNow, therefore,\\nThe General Assembly,\\nProclaims this Universal Declaration of Human Rights as a common standard of\\nachievement for all peoples and all nations, to the end that every individual and\\nevery organ of society, keeping this Declaration constantly in mind, shall strive by\\nteaching and education to promote respect for these rights and freedoms and by\\nprogressive measures, national and international, to secure their universal and\\neffective recognition and observance, both among the peoples of Member States\\nthemselves and among the peoples of territories under their jurisdiction.\\nArticle I\\nAll human beings are born free and equal in dignity and rights. They are\\nendowed with reason and conscience and should act towards one another in a\\nspirit of brotherhood.\\nArticle 2\\nEveryone is entitled to all the rights and freedoms set forth in this Declaration,\\nwithout distinction of any kind, such as race, colour, sex, language, religion,\\npolitical or other opinion, national or social origin, property, birth or other status.\\nFurthermore, no distinction shall be made on the basis of the political,\\njurisdictional or international status of the country or territory to which a person\\nbelongs, whether it be independent, trust, non-self-governing or under any other\\nlimitation of sovereignty.\\nArticle 3\\nEveryone has the right to life, liberty and the security of person.\\nArticle 4\\nNo one shall be held in slavery or servitude; slavery and the slave trade shall be\\nprohibited in all their forms.\\nArticle 5\\nNo one shall be subjected to torture or to cruel, inhuman or degrading treatment\\nor punishment.\\nArticle 6\\nEveryone has the right to recognition everywhere as a person before the law.\\nArticle 7\\nAll are equal before the law and are entitled without any discrimination to equal\\nprotection of the law. All are entitled to equal protection against any\\ndiscrimination in violation of this Declaration and against any incitement to such\\ndiscrimination.\\nArticle 8\\nEveryone has the right to an effective remedy by the competent national tribunals\\nfor acts violating the fundamental rights granted him by the constitution or by law.\\nArticle 9\\nNo one shall be subjected to arbitrary arrest, detention or exile.\\nArticle 10\\nEveryone is entitled in full equality to a fair and public hearing by an independent\\nand impartial tribunal, in the determination of his rights and obligations and of any\\ncriminal charge against him.\\nArticle 11\\n1. Everyone charged with a penal offence has the right to be presumed\\ninnocent until proved guilty according to law in a public trial at which he\\nhas had all the guarantees necessary for his defence.\\n2. No one shall be held guilty of any penal offence on account of any act or\\nomission which did not constitute a penal offence, under national or\\ninternational law, at the time when it was committed. Nor shall a heavier\\npenalty be imposed than the one that was applicable at the time the penal\\noffence was committed.\\nArticle 12\\nNo one shall be subjected to arbitrary interference with his privacy, family, home\\nor correspondence, nor to attacks upon his honour and reputation. Everyone has\\nthe right to the protection of the law against such interference or attacks.\\nArticle 13\\n1. Everyone has the right to freedom of movement and residence within the\\nborders of each State.\\n2. Everyone has the right to leave any country, including his own, and to\\nreturn to his country.\\nArticle 14\\n1. Everyone has the right to seek and to enjoy in other countries asylum from\\npersecution.\\n2. This right may not be invoked in the case of prosecutions genuinely\\narising from non-political crimes or from acts contrary to the purposes and\\nprinciples of the United Nations.\\nArticle 15\\n1. Everyone has the right to a nationality.\\n2. No one shall be arbitrarily deprived of his nationality nor denied the right to\\nchange his nationality.\\nArticle 16\\n1. Men and women of full age, without any limitation due to race, nationality\\nor religion, have the right to marry and to found a family. They are entitled\\nto equal rights as to marriage, during marriage and at its dissolution.\\n2. Marriage shall be entered into only with the free and full consent of the\\nintending spouses.\\n3. The family is the natural and fundamental group unit of society and is\\nentitled to protection by society and the State.\\nArticle 17\\n1. Everyone has the right to own property alone as well as in association with\\nothers.\\n2. No one shall be arbitrarily deprived of his property.\\nArticle 18\\nEveryone has the right to freedom of thought, conscience and religion; this right\\nincludes freedom to change his religion or belief, and freedom, either alone or in\\ncommunity with others and in public or private, to manifest his religion or belief in\\nteaching, practice, worship and observance.\\nArticle 19\\nEveryone has the right to freedom of opinion and expression; this right includes\\nfreedom to hold opinions without interference and to seek, receive and impart\\ninformation and ideas through any media and regardless of frontiers.\\nArticle 20\\n1. Everyone has the right to freedom of peaceful assembly and association.\\n2. No one may be compelled to belong to an association.\\nArticle 21\\n1. Everyone has the right to take part in the government of his country,\\ndirectly or through freely chosen representatives.\\n2. Everyone has the right of equal access to public service in his country.\\n3. The will of the people shall be the basis of the authority of government;\\nthis will shall be expressed in periodic and genuine elections which shall\\nbe by universal and equal suffrage and shall be held by secret vote or by\\nequivalent free voting procedures.\\nArticle 22\\nEveryone, as a member of society, has the right to social security and is entitled\\nto realization, through national effort and international co-operation and in\\naccordance with the organization and resources of each State, of the economic,\\nsocial and cultural rights indispensable for his dignity and the free development\\nof his personality.\\nArticle 23\\n1. Everyone has the right to work, to free choice of employment, to just and\\nfavourable conditions of work and to protection against unemployment.\\n2. Everyone, without any discrimination, has the right to equal pay for equal\\nwork.\\n3. Everyone who works has the right to just and favourable remuneration\\nensuring for himself and his family an existence worthy of human dignity,\\nand supplemented, if necessary, by other means of social protection.\\n4. Everyone has the right to form and to join trade unions for the protection of\\nhis interests.\\nArticle 24\\nEveryone has the right to rest and leisure, including reasonable limitation of\\nworking hours and periodic holidays with pay.\\nArticle 25\\n1. Everyone has the right to a standard of living adequate for the health and\\nwell-being of himself and of his family, including food, clothing, housing\\nand medical care and necessary social services, and the right to security\\nin the event of unemployment, sickness, disability, widowhood, old age or\\nother lack of livelihood in circumstances beyond his control.\\n2. Motherhood and childhood are entitled to special care and assistance. All\\nchildren, whether born in or out of wedlock, shall enjoy the same social\\nprotection.\\nArticle 26\\n1. Everyone has the right to education. Education shall be free, at least in the\\nelementary and fundamental stages. Elementary education shall be\\ncompulsory. Technical and professional education shall be made\\ngenerally available and higher education shall be equally accessible to all\\non the basis of merit.\\n2. Education shall be directed to the full development of the human\\npersonality and to the strengthening of respect for human rights and\\nfundamental freedoms. It shall promote understanding, tolerance and\\nfriendship among all nations, racial or religious groups, and shall further\\nthe activities of the United Nations for the maintenance of peace.\\n3. Parents have a prior right to choose the kind of education that shall be\\ngiven to their children.\\nArticle 27\\n1. Everyone has the right freely to participate in the cultural life of the\\ncommunity, to enjoy the arts and to share in scientific advancement and\\nits benefits.\\n2. Everyone has the right to the protection of the moral and material interests\\nresulting from any scientific, literary or artistic production of which he is the\\nauthor.\\nArticle 28\\nEveryone is entitled to a social and international order in which the rights and\\nfreedoms set forth in this Declaration can be fully realized.\\nArticle 29\\n1. Everyone has duties to the community in which alone the free and full\\ndevelopment of his personality is possible.\\n2. In the exercise of his rights and freedoms, everyone shall be subject only\\nto such limitations as are determined by law solely for the purpose of\\nsecuring due recognition and respect for the rights and freedoms of others\\nand of meeting the just requirements of morality, public order and the\\ngeneral welfare in a democratic society.\\n3. These rights and freedoms may in no case be exercised contrary to the\\npurposes and principles of the United Nations.\\nArticle 30\\nNothing in this Declaration may be interpreted as implying for any State, group or\\nperson any right to engage in any activity or to perform any act aimed at the\\ndestruction of any of the rights and freedoms set forth herein. '"
      ]
     },
     "execution_count": 97,
     "metadata": {},
     "output_type": "execute_result"
    }
   ],
   "source": [
    "f.read()"
   ]
  },
  {
   "attachments": {},
   "cell_type": "markdown",
   "metadata": {},
   "source": [
    "$\\qquad\\qquad$ d. Reset the position back to x: *seek(x)*  \n",
    "$\\qquad\\qquad$ e. Read a certain amount of characters in the content: *read(n)*"
   ]
  },
  {
   "cell_type": "code",
   "execution_count": 98,
   "metadata": {},
   "outputs": [
    {
     "data": {
      "text/plain": [
       "'hereas rec'"
      ]
     },
     "execution_count": 98,
     "metadata": {},
     "output_type": "execute_result"
    }
   ],
   "source": [
    "f.seek(50)\n",
    "f.read(10)"
   ]
  },
  {
   "attachments": {},
   "cell_type": "markdown",
   "metadata": {},
   "source": [
    "$\\qquad$(2) Write a message  \n",
    "\n",
    "$\\qquad\\qquad$ a. Open a file in writing mode: *'w'*  \n",
    "$\\qquad\\qquad$ b. Write the message: *write*  \n",
    "$\\qquad\\qquad$ c. Close the file: *close*"
   ]
  },
  {
   "cell_type": "code",
   "execution_count": 103,
   "metadata": {},
   "outputs": [],
   "source": [
    "g = open('test.txt','w') # 'w' means at writing mode\n",
    "g.write('This is a test message.')\n",
    "g.close()"
   ]
  },
  {
   "cell_type": "code",
   "execution_count": 104,
   "metadata": {},
   "outputs": [
    {
     "data": {
      "text/plain": [
       "'This is a test message.'"
      ]
     },
     "execution_count": 104,
     "metadata": {},
     "output_type": "execute_result"
    }
   ],
   "source": [
    "g = open('test.txt','r')\n",
    "g.read()"
   ]
  },
  {
   "cell_type": "markdown",
   "metadata": {},
   "source": [
    "$\\qquad$(3) Issues with reading text files\n",
    "\n",
    "$\\qquad\\qquad$ Remove the newline character at last: *rstrip*"
   ]
  },
  {
   "cell_type": "code",
   "execution_count": 106,
   "metadata": {},
   "outputs": [
    {
     "data": {
      "text/plain": [
       "'Universal Declaration of Human Rights\\n'"
      ]
     },
     "execution_count": 106,
     "metadata": {},
     "output_type": "execute_result"
    }
   ],
   "source": [
    "f.seek(0)\n",
    "text37 = f.readline()\n",
    "text37"
   ]
  },
  {
   "cell_type": "code",
   "execution_count": 107,
   "metadata": {},
   "outputs": [
    {
     "data": {
      "text/plain": [
       "'Universal Declaration of Human Rights'"
      ]
     },
     "execution_count": 107,
     "metadata": {},
     "output_type": "execute_result"
    }
   ],
   "source": [
    "text38 = text37.rstrip()\n",
    "text38"
   ]
  },
  {
   "cell_type": "markdown",
   "metadata": {},
   "source": [
    "#### ***\\* Take Home Concepts***\n",
    "\n",
    "$\\qquad$ - Handling text sentences *len*  \n",
    "$\\qquad$ - Splitting sentences into words, words into characters *split*, *list*, *list comprehension*  \n",
    "$\\qquad$ - Finding unique words *set*  \n",
    "$\\qquad$ - Handling text from documents *open*, *read*, *write*, *seek*, *close*"
   ]
  }
 ],
 "metadata": {
  "kernelspec": {
   "display_name": "Python 3 (ipykernel)",
   "language": "python",
   "name": "python3"
  },
  "language_info": {
   "codemirror_mode": {
    "name": "ipython",
    "version": 3
   },
   "file_extension": ".py",
   "mimetype": "text/x-python",
   "name": "python",
   "nbconvert_exporter": "python",
   "pygments_lexer": "ipython3",
   "version": "3.9.15"
  }
 },
 "nbformat": 4,
 "nbformat_minor": 2
}
