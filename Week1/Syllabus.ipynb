{
 "cells": [
  {
   "cell_type": "markdown",
   "metadata": {},
   "source": [
    "## Applied Text Mining in Python Personal Code Notebook"
   ]
  },
  {
   "attachments": {},
   "cell_type": "markdown",
   "metadata": {},
   "source": [
    "***Syllabus***\n",
    "\n",
    "#### Week 1: \n",
    "Understanding of how text is handled by Python, the structure of text both to the machine and to humans, and an overview of the nltk framework on manipulating text\n",
    "\n",
    "#### Week 2:\n",
    "Common manipulation needs, including regular expression (regex), cleaning text, and preparing text for use by machine learning processes\n",
    "\n",
    "#### Week 3:\n",
    "Basic natural language processing methods (NLP) and text classification\n",
    "\n",
    "#### Week 4:\n",
    "Advanced methods for detecting the topics in documents and grouping by similarity (topic modeling)"
   ]
  }
 ],
 "metadata": {
  "kernelspec": {
   "display_name": "base",
   "language": "python",
   "name": "python3"
  },
  "language_info": {
   "name": "python",
   "version": "3.9.15"
  },
  "orig_nbformat": 4
 },
 "nbformat": 4,
 "nbformat_minor": 2
}
