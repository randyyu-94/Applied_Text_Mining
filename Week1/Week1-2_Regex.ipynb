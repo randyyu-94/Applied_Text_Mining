{
 "cells": [
  {
   "attachments": {},
   "cell_type": "markdown",
   "metadata": {},
   "source": [
    "## Section II Regular Expressions (Regex)"
   ]
  },
  {
   "attachments": {},
   "cell_type": "markdown",
   "metadata": {},
   "source": [
    "#### **1. Process free-text**\n",
    "\n",
    "$\\qquad$ Find words with specific format (e.g., starts with \"@\"): *startswith*\n"
   ]
  },
  {
   "cell_type": "code",
   "execution_count": 2,
   "metadata": {},
   "outputs": [
    {
     "name": "stdout",
     "output_type": "stream",
     "text": [
      "['\"Ethics', 'are', 'built', 'right', 'into', 'the', 'ideals', 'and', 'objectives', 'of', 'the', 'United', 'Nations\"#', 'UNSG', '@NY', 'Society', 'for', 'Ethical', 'Culture', 'bit.ly/2guVelr', '@UN', '@UN_Women'] 22\n",
      "['@NY', '@UN', '@UN_Women'] 3\n"
     ]
    }
   ],
   "source": [
    "text1 = '\"Ethics are built right into the ideals and objectives of the United Nations\"# UNSG @NY Society for Ethical Culture bit.ly/2guVelr @UN @UN_Women'\n",
    "text2 = text1.split()\n",
    "print(text2,len(text2))\n",
    "\n",
    "text3 = [w for w in text2 if w.startswith('@')] # Generate a list with all elements that start with an @\n",
    "print(text3,len(text3))"
   ]
  },
  {
   "attachments": {},
   "cell_type": "markdown",
   "metadata": {},
   "source": [
    "#### **2. Find patterns with regular expressions**\n",
    "\n",
    "$\\qquad$(1) Callouts morethan just tokens beginning with '@':  \n",
    "$\\qquad\\qquad$ e.g., @UN_Spokesperson, @katyperry, @coursera01.  \n",
    "$\\qquad\\qquad$ **Solution**: match something after '@' that may include alphabets, numbers, or special symbols like '_'  \n",
    "$\\qquad\\qquad$ **Regex**: *'@[A-Za-z0-9_]+'*  \n",
    "$\\qquad\\qquad$ **Meaning**:  \n",
    "$\\qquad\\qquad\\qquad$ a. [] encloses a format of the items that can occur here (i.e., after the \"@\" in the example)  \n",
    "$\\qquad\\qquad\\qquad$ b. + indicates repeating for 1-infinity times"
   ]
  },
  {
   "cell_type": "code",
   "execution_count": 3,
   "metadata": {},
   "outputs": [
    {
     "name": "stdout",
     "output_type": "stream",
     "text": [
      "['@NY', '@UN', '@UN_Women'] 3 True\n"
     ]
    }
   ],
   "source": [
    "import re\n",
    "text4 = [w for w in text2 if re.search('@[A-Za-z0-9_]+',w)]\n",
    "print(text4,len(text4),text4==text3)"
   ]
  },
  {
   "attachments": {},
   "cell_type": "markdown",
   "metadata": {},
   "source": [
    "$\\qquad$(2) General meta-characters (character matches)\n",
    "\n",
    "$\\qquad\\qquad$ a. '.' - matches a single character (any; once)  \n",
    "$\\qquad\\qquad$ b. '^' - indicates the start of a string  \n",
    "$\\qquad\\qquad$ c. '$' - indicates the end of a string  \n",
    "\n",
    "$\\qquad\\qquad$ d. '[]' - matches one of the set of characters within the bracket   \n",
    "$\\qquad\\qquad\\qquad$ [a-z]: matches one of the range of characters *a, b, ..., z*  \n",
    "$\\qquad\\qquad\\qquad$ [^abc]: matches a character that is **not** *a,b,c*   \n",
    "$\\qquad\\qquad\\qquad$ (**Note**: when a '^' is within a bracket, it indicates a 'non' meaning; when a '^' is outside a bracket, it indicates a 'start with' meaning.)  \n",
    "$\\qquad\\qquad\\qquad$ [a|b]: matches 'a' or 'b'  \n",
    "\n",
    "$\\qquad\\qquad$ e. '()' - indicates scoping for an operator  \n",
    "$\\qquad\\qquad$ f. '?:' - inside a pair of parentheses at the beginning to indicate that pull out ALL matched data, NOT only the matched data within the parentheses  \n",
    "\n",
    "$\\qquad\\qquad$ g. '\\\\' - escapes character for special characters (e.g., \\t,\\n,\\b)  \n",
    "$\\qquad\\qquad\\qquad$ \\b: matches word boundary  \n",
    "$\\qquad\\qquad\\qquad$ \\d: matches any digit (=[0-9])  \n",
    "$\\qquad\\qquad\\qquad$ \\D: matches any non-digit (=[^0-9])  \n",
    "$\\qquad\\qquad\\qquad$ \\s: matches any whitespace (=[ \\t\\n\\r\\f\\v])  \n",
    "$\\qquad\\qquad\\qquad$ \\S: matches any non-whitespace (=[^ \\t\\n\\r\\f\\v])  \n",
    "$\\qquad\\qquad\\qquad$ \\w: matches any alphanumeric character (=[A-Za-z0-9_])  \n",
    "$\\qquad\\qquad\\qquad$ \\W: matches any non-alphanumeric character (=[^A-Za-z0-9_])  "
   ]
  },
  {
   "attachments": {},
   "cell_type": "markdown",
   "metadata": {},
   "source": [
    "$\\qquad$(3) Meta-characters (repetitions)\n",
    "\n",
    "$\\qquad\\qquad$ a. '*' - matches 0-infinity occurrences  \n",
    "$\\qquad\\qquad$ b. '+' - matches 1-infinity occurrences  \n",
    "$\\qquad\\qquad$ c. '?' - matches 0-1 occurrences  \n",
    "$\\qquad\\qquad$ d. '{n}' - matches *n* times of occurrences (n>=0)  \n",
    "$\\qquad\\qquad$ e. '{n,}' - matches **at least** *n* times of occurrences (n>=0)  \n",
    "$\\qquad\\qquad$ f. '{,n}' - matches **at most** *n* times of occurrences (n>=0)  \n",
    "$\\qquad\\qquad$ g. '{m,n}' - matches **at least** *m* times and **at most** *n* times of occurrences (n>=m>=0)  "
   ]
  },
  {
   "cell_type": "code",
   "execution_count": 4,
   "metadata": {},
   "outputs": [
    {
     "name": "stdout",
     "output_type": "stream",
     "text": [
      "['@NY', '@UN', '@UN_Women'] 3 True\n"
     ]
    }
   ],
   "source": [
    "text5 = [w for w in text2 if re.search('@\\w+',w)]\n",
    "print(text5,len(text5),text5==text4)"
   ]
  },
  {
   "cell_type": "code",
   "execution_count": 5,
   "metadata": {},
   "outputs": [
    {
     "name": "stdout",
     "output_type": "stream",
     "text": [
      "['o', 'u', 'a', 'a', 'o', 'u', 'o', 'u'] 8\n"
     ]
    }
   ],
   "source": [
    "text6 = 'ouagadougou'\n",
    "text7 = re.findall(r'[aeiou]',text6)\n",
    "print(text7,len(text7))"
   ]
  },
  {
   "cell_type": "code",
   "execution_count": 6,
   "metadata": {},
   "outputs": [
    {
     "name": "stdout",
     "output_type": "stream",
     "text": [
      "['g', 'd', 'g'] 3\n"
     ]
    }
   ],
   "source": [
    "text8 =re.findall(r'[^aeiou]',text6)\n",
    "print(text8,len(text8))"
   ]
  },
  {
   "attachments": {},
   "cell_type": "markdown",
   "metadata": {},
   "source": [
    "#### 3. **Regular expression for dates**\n",
    "\n",
    "##### (1) Pure numbers  \n",
    "$\\qquad$ Considering general cases: MM-DD-YYYY, MM/DD/YYYY, DD-MM-YYYY, DD/MM/YYYY:  \n",
    "$\\qquad\\qquad$ **regex**: *\\d{2}[-/]\\d{2}[-/]\\d{4}*\n",
    "\n",
    "$\\qquad$ For single months/dates: M-D-YYYY, M/D/YYYY, D-M-YYYY, D/M/YYYY:  \n",
    "$\\qquad\\qquad$ **regex**: *\\d{1,2}[-/]\\d{1,2}[-/]\\d{4}*  \n",
    "\n",
    "$\\qquad$ If only two digits are provided for years (e.g., 2023->23): M(MM) -(/) D(DD) -(/) YY(YYYY)  \n",
    "$\\qquad\\qquad$ **regex**: *\\d{1,2}[-/]\\d{1,2}[-/]\\d{2,4}*  "
   ]
  },
  {
   "attachments": {},
   "cell_type": "markdown",
   "metadata": {},
   "source": [
    "##### (2) With Months as Words\n",
    "$\\qquad$ Considering month in the center:  \n",
    "$\\qquad\\qquad$ **regex**: *\\d{1,2} (?:Jan|Feb|Mar|Apr|May|Jun|Jul|Aug|Sep|Oct|Nov|Dec)[a-z]\\* \\d{2,4}*\n",
    "\n",
    "$\\qquad$ Considering both cases of month at the beginning and in the center:  \n",
    "$\\qquad\\qquad$ **regex**: *(?:\\d{1,2} )?(?:Jan|Feb|Mar|Apr|May|Jun|Jul|Aug|Sep|Oct|Nov|Dec)[a-z]\\* (?:\\d{1,2}, )?\\d{2,4}*"
   ]
  },
  {
   "cell_type": "code",
   "execution_count": 7,
   "metadata": {},
   "outputs": [
    {
     "name": "stdout",
     "output_type": "stream",
     "text": [
      "23-10-2002\n",
      "23/10/2002\n",
      "23/10/02\n",
      "10/23/2002\n",
      "23 Oct 2002\n",
      "23 October 2002\n",
      "Oct 23, 2002\n",
      "October 23, 2002\n",
      "\n",
      "['23-10-2002', '23/10/2002', '23/10/02', '10/23/2002'] 4\n",
      "['23 Oct 2002', '23 October 2002', 'Oct 23, 2002', 'October 23, 2002'] 4\n"
     ]
    }
   ],
   "source": [
    "# TEST IT!\n",
    "\n",
    "dateStr = '23-10-2002\\n23/10/2002\\n23/10/02\\n10/23/2002\\n23 Oct 2002\\n23 October 2002\\nOct 23, 2002\\nOctober 23, 2002\\n'\n",
    "print(dateStr)\n",
    "\n",
    "date_no = re.findall(r'\\d{1,2}[-/]\\d{1,2}[-/]\\d{2,4}',dateStr)\n",
    "date_wd = re.findall(r'(?:\\d{1,2} )?(?:Jan|Feb|Mar|Apr|May|Jun|Jul|Aug|Sep|Oct|Nov|Dec)[a-z]* (?:\\d{1,2}, )?\\d{2,4}',dateStr)\n",
    "\n",
    "print(date_no, len(date_no))\n",
    "print(date_wd, len(date_wd))"
   ]
  },
  {
   "cell_type": "code",
   "execution_count": 8,
   "metadata": {},
   "outputs": [
    {
     "name": "stdout",
     "output_type": "stream",
     "text": [
      "['23-10-2002', '23/10/2002', '23/10/02', '10/23/2002', '23 Oct 2002', '23 October 2002', 'Oct 23, 2002', 'October 23, 2002'] 8\n"
     ]
    }
   ],
   "source": [
    "date = re.findall(r'\\d{1,2}[-/]\\d{1,2}[-/]\\d{2,4}|(?:\\d{1,2} )?(?:Jan|Feb|Mar|Apr|May|Jun|Jul|Aug|Sep|Oct|Nov|Dec)[a-z]* (?:\\d{1,2}, )?\\d{2,4}',dateStr) # combine two regex into one.\n",
    "print(date,len(date))"
   ]
  },
  {
   "attachments": {},
   "cell_type": "markdown",
   "metadata": {},
   "source": [
    "#### 4. **Regular expression with Pandas and Named Groups**\n",
    "\n",
    "##### (1) Review of Pandas package\n",
    "\n",
    "> Pandas package provides a convenient processing for series and dataframe, which arranges dataset in an array-like list or a table-like format.\n",
    "\n",
    "$\\qquad$ **Basic Pandas Objects**: Series, DataFrame  \n",
    "$\\qquad\\qquad$ **create a pandas dataframe**: *pd.DataFrame(data, index, columns, dtype)*\n"
   ]
  },
  {
   "cell_type": "code",
   "execution_count": 9,
   "metadata": {},
   "outputs": [
    {
     "data": {
      "text/html": [
       "<div>\n",
       "<style scoped>\n",
       "    .dataframe tbody tr th:only-of-type {\n",
       "        vertical-align: middle;\n",
       "    }\n",
       "\n",
       "    .dataframe tbody tr th {\n",
       "        vertical-align: top;\n",
       "    }\n",
       "\n",
       "    .dataframe thead th {\n",
       "        text-align: right;\n",
       "    }\n",
       "</style>\n",
       "<table border=\"1\" class=\"dataframe\">\n",
       "  <thead>\n",
       "    <tr style=\"text-align: right;\">\n",
       "      <th></th>\n",
       "      <th>text</th>\n",
       "    </tr>\n",
       "  </thead>\n",
       "  <tbody>\n",
       "    <tr>\n",
       "      <th>0</th>\n",
       "      <td>Monday: The doctor's appointment is at 2:45pm.</td>\n",
       "    </tr>\n",
       "    <tr>\n",
       "      <th>1</th>\n",
       "      <td>Tuesday: The dentist's appointment is at 11:30...</td>\n",
       "    </tr>\n",
       "    <tr>\n",
       "      <th>2</th>\n",
       "      <td>Wednesday: At 7:00pm, there is a basketball game!</td>\n",
       "    </tr>\n",
       "    <tr>\n",
       "      <th>3</th>\n",
       "      <td>Thursday: Be back home by 11:15 pm at the latest.</td>\n",
       "    </tr>\n",
       "    <tr>\n",
       "      <th>4</th>\n",
       "      <td>Friday: Take the train at 08:10 am, arrive at ...</td>\n",
       "    </tr>\n",
       "  </tbody>\n",
       "</table>\n",
       "</div>"
      ],
      "text/plain": [
       "                                                text\n",
       "0     Monday: The doctor's appointment is at 2:45pm.\n",
       "1  Tuesday: The dentist's appointment is at 11:30...\n",
       "2  Wednesday: At 7:00pm, there is a basketball game!\n",
       "3  Thursday: Be back home by 11:15 pm at the latest.\n",
       "4  Friday: Take the train at 08:10 am, arrive at ..."
      ]
     },
     "execution_count": 9,
     "metadata": {},
     "output_type": "execute_result"
    }
   ],
   "source": [
    "import pandas as pd\n",
    "\n",
    "time_sentences = [\"Monday: The doctor's appointment is at 2:45pm.\", \n",
    "                  \"Tuesday: The dentist's appointment is at 11:30 am.\",\n",
    "                  \"Wednesday: At 7:00pm, there is a basketball game!\",\n",
    "                  \"Thursday: Be back home by 11:15 pm at the latest.\",\n",
    "                  \"Friday: Take the train at 08:10 am, arrive at 09:00am.\"]\n",
    "\n",
    "df = pd.DataFrame(time_sentences, columns=['text'])\n",
    "df"
   ]
  },
  {
   "attachments": {},
   "cell_type": "markdown",
   "metadata": {},
   "source": [
    "$\\qquad$ **Attribute**: *str* - access the set of *string* processing methods to make it easy to operate on each element in the *series*.  \n",
    "$\\qquad\\qquad$ **Method**: *len* - check the number of characters or words (with *split*) in a string."
   ]
  },
  {
   "cell_type": "code",
   "execution_count": 10,
   "metadata": {},
   "outputs": [
    {
     "name": "stdout",
     "output_type": "stream",
     "text": [
      "Monday: The doctor's appointment is at 2:45pm.\n",
      "Tuesday: The dentist's appointment is at 11:30 am.\n",
      "Wednesday: At 7:00pm, there is a basketball game!\n",
      "Thursday: Be back home by 11:15 pm at the latest.\n",
      "Friday: Take the train at 08:10 am, arrive at 09:00am.\n",
      "The number of characters in text column of df\n",
      " 0    46\n",
      "1    50\n",
      "2    49\n",
      "3    49\n",
      "4    54\n",
      "Name: text, dtype: int64\n",
      "['Monday:', 'The', \"doctor's\", 'appointment', 'is', 'at', '2:45pm.']\n",
      "['Tuesday:', 'The', \"dentist's\", 'appointment', 'is', 'at', '11:30', 'am.']\n",
      "['Wednesday:', 'At', '7:00pm,', 'there', 'is', 'a', 'basketball', 'game!']\n",
      "['Thursday:', 'Be', 'back', 'home', 'by', '11:15', 'pm', 'at', 'the', 'latest.']\n",
      "['Friday:', 'Take', 'the', 'train', 'at', '08:10', 'am,', 'arrive', 'at', '09:00am.']\n",
      "The number of words in text column of df\n",
      " 0     7\n",
      "1     8\n",
      "2     8\n",
      "3    10\n",
      "4    10\n",
      "Name: text, dtype: int64\n"
     ]
    }
   ],
   "source": [
    "sen_df = df['text']\n",
    "for sen in sen_df:\n",
    "    print(sen)\n",
    "\n",
    "len_df = sen_df.str.len() # Neither series nor dataframe has the attribute of \"len\", so \n",
    "print('The number of characters in text column of df\\n', len_df)\n",
    "\n",
    "wd_df = df['text'].str.split()\n",
    "for wd in wd_df:\n",
    "    print(wd)\n",
    "\n",
    "wd_len_df = wd_df.str.len()\n",
    "print('The number of words in text column of df\\n', wd_len_df)"
   ]
  },
  {
   "attachments": {},
   "cell_type": "markdown",
   "metadata": {},
   "source": [
    "$\\qquad\\qquad$ **Methods**: *str.contains(t)* - check if a string contains a pattern and produce a *boolean mask*    \n",
    "$\\qquad\\qquad\\qquad$ ***Note***: If you want to retrieve the items that match the *boolean mask*, just use *series[boolean_mask]*"
   ]
  },
  {
   "cell_type": "code",
   "execution_count": 11,
   "metadata": {},
   "outputs": [
    {
     "name": "stdout",
     "output_type": "stream",
     "text": [
      "0     True\n",
      "1     True\n",
      "2    False\n",
      "3    False\n",
      "4    False\n",
      "Name: text, dtype: bool\n",
      "0       Monday: The doctor's appointment is at 2:45pm.\n",
      "1    Tuesday: The dentist's appointment is at 11:30...\n",
      "Name: text, dtype: object\n"
     ]
    }
   ],
   "source": [
    "appt_bool = sen_df.str.contains('appointment')\n",
    "print(appt_bool)\n",
    "\n",
    "appt = sen_df[appt_bool]\n",
    "print(appt)"
   ]
  },
  {
   "attachments": {},
   "cell_type": "markdown",
   "metadata": {},
   "source": [
    "$\\qquad\\qquad$ **Methods**: *str.count(t)* - count the occurrence of a pattern in each string of the series   "
   ]
  },
  {
   "cell_type": "code",
   "execution_count": 12,
   "metadata": {},
   "outputs": [
    {
     "name": "stdout",
     "output_type": "stream",
     "text": [
      "0    3\n",
      "1    4\n",
      "2    3\n",
      "3    4\n",
      "4    8\n",
      "Name: text, dtype: int64\n"
     ]
    }
   ],
   "source": [
    "ct_digit = sen_df.str.count(r'\\d')\n",
    "print(ct_digit)"
   ]
  },
  {
   "attachments": {},
   "cell_type": "markdown",
   "metadata": {},
   "source": [
    "$\\qquad\\qquad$ **Methods**: *str.findall(t)* - find all the occurrence of a pattern in each string of the series   \n",
    "$\\qquad\\qquad\\qquad$ Higher level: use regex to capture certain groups (e.g.,time)"
   ]
  },
  {
   "cell_type": "code",
   "execution_count": 13,
   "metadata": {},
   "outputs": [
    {
     "name": "stdout",
     "output_type": "stream",
     "text": [
      "0                   [2, 4, 5]\n",
      "1                [1, 1, 3, 0]\n",
      "2                   [7, 0, 0]\n",
      "3                [1, 1, 1, 5]\n",
      "4    [0, 8, 1, 0, 0, 9, 0, 0]\n",
      "Name: text, dtype: object\n",
      "0               [2:45pm]\n",
      "1             [11:30 am]\n",
      "2               [7:00pm]\n",
      "3             [11:15 pm]\n",
      "4    [08:10 am, 09:00am]\n",
      "Name: text, dtype: object\n",
      "0               [(2, 45)]\n",
      "1              [(11, 30)]\n",
      "2               [(7, 00)]\n",
      "3              [(11, 15)]\n",
      "4    [(08, 10), (09, 00)]\n",
      "Name: text, dtype: object\n"
     ]
    }
   ],
   "source": [
    "all_digit = sen_df.str.findall(r'\\d')\n",
    "print(all_digit)\n",
    "\n",
    "all_time = sen_df.str.findall(r'\\d{1,2}:\\d{2} ?[a|p]m')\n",
    "print(all_time)\n",
    "\n",
    "all_hm = sen_df.str.findall(r'(\\d{1,2}):(\\d{2})')\n",
    "print(all_hm) "
   ]
  },
  {
   "attachments": {},
   "cell_type": "markdown",
   "metadata": {},
   "source": [
    "$\\qquad\\qquad$ **Methods**: *str.replace(t1,t2)* - replace all *t1* in the string to *t2*  \n",
    "$\\qquad\\qquad\\qquad$ Higher level: Change the words based on the original: Use *lambda x*"
   ]
  },
  {
   "cell_type": "code",
   "execution_count": 14,
   "metadata": {},
   "outputs": [
    {
     "name": "stdout",
     "output_type": "stream",
     "text": [
      "0          ???: The doctor's appointment is at 2:45pm.\n",
      "1       ???: The dentist's appointment is at 11:30 am.\n",
      "2          ???: At 7:00pm, there is a basketball game!\n",
      "3         ???: Be back home by 11:15 pm at the latest.\n",
      "4    ???: Take the train at 08:10 am, arrive at 09:...\n",
      "Name: text, dtype: object\n",
      "0          Mon: The doctor's appointment is at 2:45pm.\n",
      "1       Tue: The dentist's appointment is at 11:30 am.\n",
      "2          Wed: At 7:00pm, there is a basketball game!\n",
      "3         Thu: Be back home by 11:15 pm at the latest.\n",
      "4    Fri: Take the train at 08:10 am, arrive at 09:...\n",
      "Name: text, dtype: object\n"
     ]
    },
    {
     "name": "stderr",
     "output_type": "stream",
     "text": [
      "C:\\Users\\hry09\\AppData\\Local\\Temp\\ipykernel_20528\\3112599347.py:1: FutureWarning: The default value of regex will change from True to False in a future version.\n",
      "  sen_df1 = sen_df.str.replace(r'\\w+day\\b','???') # reminder: '\\b' indicates the boundary of a word\n",
      "C:\\Users\\hry09\\AppData\\Local\\Temp\\ipykernel_20528\\3112599347.py:4: FutureWarning: The default value of regex will change from True to False in a future version.\n",
      "  sen_df2 = sen_df.str.replace(r'(\\w+day\\b)',lambda x: x.groups()[0][:3])\n"
     ]
    }
   ],
   "source": [
    "sen_df1 = sen_df.str.replace(r'\\w+day\\b','???') # reminder: '\\b' indicates the boundary of a word\n",
    "print(sen_df1)\n",
    "\n",
    "sen_df2 = sen_df.str.replace(r'(\\w+day\\b)',lambda x: x.groups()[0][:3]) \n",
    "# use a pair of parentheses to create a group, and call the group in lambda function 'groups()'\n",
    "# groups() returns a tuple, use [0] to get the first element (e.g., Monday) and [:3] to get the first three characters of the first element (e.g., Mon)\n",
    "print(sen_df2)\n"
   ]
  },
  {
   "attachments": {},
   "cell_type": "markdown",
   "metadata": {},
   "source": [
    "$\\qquad\\qquad$ **Methods**: *str.extract(t)* - create new columns using the extracted groups (only the first match)  \n",
    "$\\qquad\\qquad\\qquad$ Higher level:  \n",
    "$\\qquad\\qquad\\qquad$ 1. To get all matches, use *str.extractall(t)*  \n",
    "$\\qquad\\qquad\\qquad$ 2. Name a group: use *?P<name>*, extracted dataframe will use the group names as the column names"
   ]
  },
  {
   "cell_type": "code",
   "execution_count": 15,
   "metadata": {},
   "outputs": [
    {
     "name": "stdout",
     "output_type": "stream",
     "text": [
      "  hour minute\n",
      "0    2     45\n",
      "1   11     30\n",
      "2    7     00\n",
      "3   11     15\n",
      "4   08     10\n",
      "        day of a week time hour Morning/Afternoon\n",
      "  match                                          \n",
      "0 0            Monday    2   45                pm\n",
      "1 0           Tuesday    1   30                am\n",
      "2 0         Wednesday    7   00                pm\n",
      "3 0          Thursday    1   15                pm\n",
      "4 0            Friday    9   00                am\n",
      "             time hour minute AM/PM\n",
      "  match                            \n",
      "0 0        2:45pm    2     45    pm\n",
      "1 0      11:30 am   11     30    am\n",
      "2 0        7:00pm    7     00    pm\n",
      "3 0      11:15 pm   11     15    pm\n",
      "4 0      08:10 am   08     10    am\n",
      "  1       09:00am   09     00    am\n"
     ]
    }
   ],
   "source": [
    "df_hm = sen_df.str.extract(r'(\\d{1,2}):(\\d{2})')\n",
    "df_hm.columns = ['hour','minute']\n",
    "print(df_hm)\n",
    "\n",
    "df_hm_all = sen_df.str.extractall(r'(\\w+day\\b).+(\\d{1,2}):(\\d{2}) ?([a|p]m)')\n",
    "'''\n",
    "breakdown of the regex:\n",
    "four pairs of () - extract four columns\n",
    "First (): \\w+day\\b - extracts all patterns with any alphabetic characters + 'day' as the end of a word\n",
    ".+ - any characters, not included in a parenthesis thus not extracted\n",
    "Second (): \\d{1,2} - extracts 1 or 2 digits for hours (H or HH)\n",
    ": - a colon to separate HH and MM\n",
    "Third (): \\d{2} - extracts 2 digits for minutes (MM)\n",
    " ? - denotes there might be one or no space\n",
    "Fourth (): [a|p]m - extracts the indication of morning (am) or afternoon (pm)\n",
    "'''\n",
    "\n",
    "df_hm_all.columns = ['day of a week','time','hour','Morning/Afternoon']\n",
    "print(df_hm_all)\n",
    "\n",
    "df_hm_name = sen_df.str.extractall(r'(?P<time>(?P<hour>\\d{1,2}):(?P<minute>\\d{2}) ?(?P<AM_PM>[ap]m))').rename(columns={'AM_PM':'AM/PM'})\n",
    "print(df_hm_name)"
   ]
  },
  {
   "attachments": {},
   "cell_type": "markdown",
   "metadata": {},
   "source": [
    "#### ***\\* Take Home Concepts***\n",
    "\n",
    "$\\qquad$ - Concept and use of regular expressions  \n",
    "$\\qquad$ - Meta-characters (*character matches* and *repetitions*) for regular expressions  \n",
    "$\\qquad$ - Build a regular expression step-by-step to identify dates"
   ]
  }
 ],
 "metadata": {
  "kernelspec": {
   "display_name": "base",
   "language": "python",
   "name": "python3"
  },
  "language_info": {
   "codemirror_mode": {
    "name": "ipython",
    "version": 3
   },
   "file_extension": ".py",
   "mimetype": "text/x-python",
   "name": "python",
   "nbconvert_exporter": "python",
   "pygments_lexer": "ipython3",
   "version": "3.9.15"
  },
  "orig_nbformat": 4
 },
 "nbformat": 4,
 "nbformat_minor": 2
}
