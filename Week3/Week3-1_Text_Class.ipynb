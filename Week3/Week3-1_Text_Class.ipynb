{
 "cells": [
  {
   "attachments": {},
   "cell_type": "markdown",
   "metadata": {},
   "source": [
    "# **Module 3: Supervised Machine Learning for Text**"
   ]
  },
  {
   "attachments": {},
   "cell_type": "markdown",
   "metadata": {},
   "source": [
    "## Section I Text Classification"
   ]
  },
  {
   "attachments": {},
   "cell_type": "markdown",
   "metadata": {},
   "source": [
    "#### 1. **Classification**"
   ]
  },
  {
   "attachments": {},
   "cell_type": "markdown",
   "metadata": {},
   "source": [
    "##### **(1) Definition**\n",
    "Given a set of classes, **Classification**  is to <u>assign</u> the correct *class label* to the given *input*  \n",
    "*<p style = \"color:grey\" align=\"center\">![1](assets/example_of_class_1.png)</p>*\n",
    "*<p align=\"center\" style=\"color:grey\">an example of text classification</p>*\n",
    "##### **(2) Examples**\n",
    "- **Topic identification**: Is this news article about *politics*, *sports*, or *technology*?\n",
    "- **Spam detection**: Is this email *a spam* or *not a spam*?\n",
    "- **Sentiment analysis**: Is this movie review *positive* or *negative*?\n",
    "- **Spelling correction**: *whether* or *weather* (different sentences)? *color* or *colour* (different styles)?"
   ]
  },
  {
   "attachments": {},
   "cell_type": "markdown",
   "metadata": {},
   "source": [
    "#### 2. **Supervised Learning**"
   ]
  },
  {
   "attachments": {},
   "cell_type": "markdown",
   "metadata": {},
   "source": [
    "##### **(1) Definition**\n",
    "The way that machine learns from past instances for future applications\n",
    "*<p align=\"center\">![Alt text](assets/supervised_learning.png)</p>*\n",
    "*<p align=\"center\" style=\"color:grey\">What is supervised learning?</p>*\n",
    "\n",
    "##### **(2) Supervised classification**\n",
    "- Definition: Learn a <u>classification model</u> on properties (*features*) and their importance (*weights*) from *labeled instances*\n",
    "    - <u>classification model</u>: a *predictive* model that uses input to predict the category or class (discrete labels)\n",
    "- *Features*: *X* - set of attributes or features $\\{x^{[1]}, x^{[2]}, ..., x^{[n]}\\}$, $x^{[i]} \\in \\{x^{[i]}_1, x^{[i]}_2, ..., x^{[i]}_n\\}$\n",
    "- *Labels*: *y* - a \"class\" label from the label set $y \\in \\{y_1, y_2, ..., y_k\\}$\n",
    "- Training phase: dataset with each sample having both *features* and *labels*\n",
    "- Inference phase: dataset with each sample having only *features* and *no labels*\n",
    "\n",
    "##### **(3) Train-Validation-Test split (knowledge recall)**\n",
    "For labeled dataset:\n",
    "\n",
    "- *Training dataset*: split and used for learning parameters/models\n",
    "- *Validation dataset*: used to set parameters for the model\n",
    "- *Test dataset*: used to evaluate the final model\n",
    "\n",
    "*<p align=\"center\">![train-validation-test split](assets/train-val-test_split.png)</p>*\n",
    "*<p align=\"center\" style=\"color:grey\">train-validation-test split</p>*\n",
    "\n",
    "##### **(4) Classification paradigms**\n",
    "\n",
    "- **Binary classification**: A classification when there are only two possible classes (only $y_1$ and $y_2$)\n",
    "- **Multi-class classification**: when there are more than two possible classes ($y_1, y_2, ..., y_n$)\n",
    "- **Multi-label classification**: when data instances can have two or more labels ($Y = \\{y^{[1]},y^{[2]},...y^{[n]}\\}$) (*uncommon*)\n",
    "\n",
    "##### **(5) Questions to ask**\n",
    "- During training phase:\n",
    "    - What are the features?\n",
    "    - How to represent the features?\n",
    "    - What is the classification model/algorithm?\n",
    "    - What are the model parameters?\n",
    "- During inference phase:\n",
    "    - What are the expected performance?\n",
    "    - What is a good measure for expected performance?\n"
   ]
  },
  {
   "attachments": {},
   "cell_type": "markdown",
   "metadata": {},
   "source": [
    "#### 3. **Identifying Features from Text**"
   ]
  },
  {
   "attachments": {},
   "cell_type": "markdown",
   "metadata": {},
   "source": [
    "#### **(1)Uniqueness of text**\n",
    "\n",
    "- Textual data has unique challenges\n",
    "- All the info needed is in the next\n",
    "- Features can be pulled out from text in <u>different granularities</u>\n",
    "\n",
    "#### **(2)Type of textual features**\n",
    "\n",
    "- ***Words***\n",
    "    - **Features**:\n",
    "        - The most common\n",
    "        - A significant number\n",
    "    - **Challenges**:\n",
    "        - Handling common-occurring words (*stop words*; e.g., the)\n",
    "        - Normalization: make it *lower case* vs. leave *as-is*\n",
    "        - Stemming/Lemmetization: remove *plurals*\n",
    "- ***Characteristics of words***\n",
    "    - **Examples**:\n",
    "        -  *Capitalization*\n",
    "            - U.S. vs. us\n",
    "            - White House vs. white house\n",
    "        - *Parts of speech (POS) of words in a sentence*\n",
    "            - weather vs. whether: a *\"the\"* as a determinant indicates *weather* rather than *whether*\n",
    "        - *Grammatical structure* and *sentence parsing*\n",
    "            - v. + n.\n",
    "        - *Grouping words of similar meaning or semantics*\n",
    "            - {buy, purchase}\n",
    "            - {Mr., Ms., Dr., Prof.}\n",
    "            - Numbers/Digits\n",
    "            - Dates\n",
    "- ***Other types of features***\n",
    "    - **Inside the words**:\n",
    "        - subsequences in words: \"-ing\" (continuous form of *v.*), \"-ion\" (indicator of a *n.*), ...\n",
    "    - **From word sequences**:\n",
    "        - bigram - \"*White House*\""
   ]
  }
 ],
 "metadata": {
  "language_info": {
   "name": "python"
  },
  "orig_nbformat": 4
 },
 "nbformat": 4,
 "nbformat_minor": 2
}
